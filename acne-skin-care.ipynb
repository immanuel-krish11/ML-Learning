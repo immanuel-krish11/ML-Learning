{
 "cells": [
  {
   "cell_type": "code",
   "execution_count": 26,
   "id": "e6a34d82-2439-4ee1-a778-edbc98011636",
   "metadata": {},
   "outputs": [],
   "source": [
    "import numpy as np\n",
    "import pandas as pd"
   ]
  },
  {
   "cell_type": "code",
   "execution_count": 27,
   "id": "e20d2ace-4a36-487c-b94b-99277652c5ee",
   "metadata": {},
   "outputs": [
    {
     "data": {
      "text/html": [
       "<div>\n",
       "<style scoped>\n",
       "    .dataframe tbody tr th:only-of-type {\n",
       "        vertical-align: middle;\n",
       "    }\n",
       "\n",
       "    .dataframe tbody tr th {\n",
       "        vertical-align: top;\n",
       "    }\n",
       "\n",
       "    .dataframe thead th {\n",
       "        text-align: right;\n",
       "    }\n",
       "</style>\n",
       "<table border=\"1\" class=\"dataframe\">\n",
       "  <thead>\n",
       "    <tr style=\"text-align: right;\">\n",
       "      <th></th>\n",
       "      <th>filename</th>\n",
       "      <th>width</th>\n",
       "      <th>height</th>\n",
       "      <th>class</th>\n",
       "      <th>xmin</th>\n",
       "      <th>ymin</th>\n",
       "      <th>xmax</th>\n",
       "      <th>ymax</th>\n",
       "    </tr>\n",
       "  </thead>\n",
       "  <tbody>\n",
       "    <tr>\n",
       "      <th>0</th>\n",
       "      <td>16262_png_jpg.rf.c6cb30e0b2ede8bcff6438cebd1a0...</td>\n",
       "      <td>512</td>\n",
       "      <td>512</td>\n",
       "      <td>spot</td>\n",
       "      <td>331</td>\n",
       "      <td>280</td>\n",
       "      <td>346</td>\n",
       "      <td>290</td>\n",
       "    </tr>\n",
       "    <tr>\n",
       "      <th>1</th>\n",
       "      <td>16262_png_jpg.rf.c6cb30e0b2ede8bcff6438cebd1a0...</td>\n",
       "      <td>512</td>\n",
       "      <td>512</td>\n",
       "      <td>spot</td>\n",
       "      <td>343</td>\n",
       "      <td>302</td>\n",
       "      <td>359</td>\n",
       "      <td>315</td>\n",
       "    </tr>\n",
       "    <tr>\n",
       "      <th>2</th>\n",
       "      <td>16262_png_jpg.rf.c6cb30e0b2ede8bcff6438cebd1a0...</td>\n",
       "      <td>512</td>\n",
       "      <td>512</td>\n",
       "      <td>spot</td>\n",
       "      <td>355</td>\n",
       "      <td>331</td>\n",
       "      <td>373</td>\n",
       "      <td>343</td>\n",
       "    </tr>\n",
       "    <tr>\n",
       "      <th>3</th>\n",
       "      <td>16262_png_jpg.rf.c6cb30e0b2ede8bcff6438cebd1a0...</td>\n",
       "      <td>512</td>\n",
       "      <td>512</td>\n",
       "      <td>spot</td>\n",
       "      <td>98</td>\n",
       "      <td>201</td>\n",
       "      <td>124</td>\n",
       "      <td>216</td>\n",
       "    </tr>\n",
       "    <tr>\n",
       "      <th>4</th>\n",
       "      <td>16262_png_jpg.rf.c6cb30e0b2ede8bcff6438cebd1a0...</td>\n",
       "      <td>512</td>\n",
       "      <td>512</td>\n",
       "      <td>spot</td>\n",
       "      <td>258</td>\n",
       "      <td>119</td>\n",
       "      <td>282</td>\n",
       "      <td>138</td>\n",
       "    </tr>\n",
       "    <tr>\n",
       "      <th>5</th>\n",
       "      <td>16262_png_jpg.rf.c6cb30e0b2ede8bcff6438cebd1a0...</td>\n",
       "      <td>512</td>\n",
       "      <td>512</td>\n",
       "      <td>spot</td>\n",
       "      <td>328</td>\n",
       "      <td>321</td>\n",
       "      <td>349</td>\n",
       "      <td>336</td>\n",
       "    </tr>\n",
       "    <tr>\n",
       "      <th>6</th>\n",
       "      <td>16262_png_jpg.rf.c6cb30e0b2ede8bcff6438cebd1a0...</td>\n",
       "      <td>512</td>\n",
       "      <td>512</td>\n",
       "      <td>spot</td>\n",
       "      <td>112</td>\n",
       "      <td>371</td>\n",
       "      <td>132</td>\n",
       "      <td>391</td>\n",
       "    </tr>\n",
       "    <tr>\n",
       "      <th>7</th>\n",
       "      <td>16262_png_jpg.rf.c6cb30e0b2ede8bcff6438cebd1a0...</td>\n",
       "      <td>512</td>\n",
       "      <td>512</td>\n",
       "      <td>spot</td>\n",
       "      <td>360</td>\n",
       "      <td>292</td>\n",
       "      <td>378</td>\n",
       "      <td>309</td>\n",
       "    </tr>\n",
       "    <tr>\n",
       "      <th>8</th>\n",
       "      <td>26817_png_jpg.rf.c6202600e22acb9b85ce311cf0a2d...</td>\n",
       "      <td>512</td>\n",
       "      <td>512</td>\n",
       "      <td>acne</td>\n",
       "      <td>158</td>\n",
       "      <td>317</td>\n",
       "      <td>176</td>\n",
       "      <td>333</td>\n",
       "    </tr>\n",
       "    <tr>\n",
       "      <th>9</th>\n",
       "      <td>26817_png_jpg.rf.c6202600e22acb9b85ce311cf0a2d...</td>\n",
       "      <td>512</td>\n",
       "      <td>512</td>\n",
       "      <td>acne</td>\n",
       "      <td>322</td>\n",
       "      <td>400</td>\n",
       "      <td>339</td>\n",
       "      <td>411</td>\n",
       "    </tr>\n",
       "  </tbody>\n",
       "</table>\n",
       "</div>"
      ],
      "text/plain": [
       "                                            filename  width  height class  \\\n",
       "0  16262_png_jpg.rf.c6cb30e0b2ede8bcff6438cebd1a0...    512     512  spot   \n",
       "1  16262_png_jpg.rf.c6cb30e0b2ede8bcff6438cebd1a0...    512     512  spot   \n",
       "2  16262_png_jpg.rf.c6cb30e0b2ede8bcff6438cebd1a0...    512     512  spot   \n",
       "3  16262_png_jpg.rf.c6cb30e0b2ede8bcff6438cebd1a0...    512     512  spot   \n",
       "4  16262_png_jpg.rf.c6cb30e0b2ede8bcff6438cebd1a0...    512     512  spot   \n",
       "5  16262_png_jpg.rf.c6cb30e0b2ede8bcff6438cebd1a0...    512     512  spot   \n",
       "6  16262_png_jpg.rf.c6cb30e0b2ede8bcff6438cebd1a0...    512     512  spot   \n",
       "7  16262_png_jpg.rf.c6cb30e0b2ede8bcff6438cebd1a0...    512     512  spot   \n",
       "8  26817_png_jpg.rf.c6202600e22acb9b85ce311cf0a2d...    512     512  acne   \n",
       "9  26817_png_jpg.rf.c6202600e22acb9b85ce311cf0a2d...    512     512  acne   \n",
       "\n",
       "   xmin  ymin  xmax  ymax  \n",
       "0   331   280   346   290  \n",
       "1   343   302   359   315  \n",
       "2   355   331   373   343  \n",
       "3    98   201   124   216  \n",
       "4   258   119   282   138  \n",
       "5   328   321   349   336  \n",
       "6   112   371   132   391  \n",
       "7   360   292   378   309  \n",
       "8   158   317   176   333  \n",
       "9   322   400   339   411  "
      ]
     },
     "execution_count": 27,
     "metadata": {},
     "output_type": "execute_result"
    }
   ],
   "source": [
    "skin_acne = pd.read_csv(\"/Users/krishprakash/Desktop/ML/archive/train/_annotations.csv\")\n",
    "skin_acne.head(10)"
   ]
  },
  {
   "cell_type": "code",
   "execution_count": 28,
   "id": "d91746f0-7569-48c2-b1a2-c7aba3ce07b3",
   "metadata": {},
   "outputs": [
    {
     "data": {
      "text/html": [
       "<div>\n",
       "<style scoped>\n",
       "    .dataframe tbody tr th:only-of-type {\n",
       "        vertical-align: middle;\n",
       "    }\n",
       "\n",
       "    .dataframe tbody tr th {\n",
       "        vertical-align: top;\n",
       "    }\n",
       "\n",
       "    .dataframe thead th {\n",
       "        text-align: right;\n",
       "    }\n",
       "</style>\n",
       "<table border=\"1\" class=\"dataframe\">\n",
       "  <thead>\n",
       "    <tr style=\"text-align: right;\">\n",
       "      <th></th>\n",
       "      <th>filename</th>\n",
       "      <th>class</th>\n",
       "    </tr>\n",
       "  </thead>\n",
       "  <tbody>\n",
       "    <tr>\n",
       "      <th>0</th>\n",
       "      <td>16262_png_jpg.rf.c6cb30e0b2ede8bcff6438cebd1a0...</td>\n",
       "      <td>spot</td>\n",
       "    </tr>\n",
       "    <tr>\n",
       "      <th>1</th>\n",
       "      <td>16262_png_jpg.rf.c6cb30e0b2ede8bcff6438cebd1a0...</td>\n",
       "      <td>spot</td>\n",
       "    </tr>\n",
       "    <tr>\n",
       "      <th>2</th>\n",
       "      <td>16262_png_jpg.rf.c6cb30e0b2ede8bcff6438cebd1a0...</td>\n",
       "      <td>spot</td>\n",
       "    </tr>\n",
       "    <tr>\n",
       "      <th>3</th>\n",
       "      <td>16262_png_jpg.rf.c6cb30e0b2ede8bcff6438cebd1a0...</td>\n",
       "      <td>spot</td>\n",
       "    </tr>\n",
       "    <tr>\n",
       "      <th>4</th>\n",
       "      <td>16262_png_jpg.rf.c6cb30e0b2ede8bcff6438cebd1a0...</td>\n",
       "      <td>spot</td>\n",
       "    </tr>\n",
       "    <tr>\n",
       "      <th>5</th>\n",
       "      <td>16262_png_jpg.rf.c6cb30e0b2ede8bcff6438cebd1a0...</td>\n",
       "      <td>spot</td>\n",
       "    </tr>\n",
       "    <tr>\n",
       "      <th>6</th>\n",
       "      <td>16262_png_jpg.rf.c6cb30e0b2ede8bcff6438cebd1a0...</td>\n",
       "      <td>spot</td>\n",
       "    </tr>\n",
       "    <tr>\n",
       "      <th>7</th>\n",
       "      <td>16262_png_jpg.rf.c6cb30e0b2ede8bcff6438cebd1a0...</td>\n",
       "      <td>spot</td>\n",
       "    </tr>\n",
       "    <tr>\n",
       "      <th>8</th>\n",
       "      <td>26817_png_jpg.rf.c6202600e22acb9b85ce311cf0a2d...</td>\n",
       "      <td>acne</td>\n",
       "    </tr>\n",
       "    <tr>\n",
       "      <th>9</th>\n",
       "      <td>26817_png_jpg.rf.c6202600e22acb9b85ce311cf0a2d...</td>\n",
       "      <td>acne</td>\n",
       "    </tr>\n",
       "  </tbody>\n",
       "</table>\n",
       "</div>"
      ],
      "text/plain": [
       "                                            filename class\n",
       "0  16262_png_jpg.rf.c6cb30e0b2ede8bcff6438cebd1a0...  spot\n",
       "1  16262_png_jpg.rf.c6cb30e0b2ede8bcff6438cebd1a0...  spot\n",
       "2  16262_png_jpg.rf.c6cb30e0b2ede8bcff6438cebd1a0...  spot\n",
       "3  16262_png_jpg.rf.c6cb30e0b2ede8bcff6438cebd1a0...  spot\n",
       "4  16262_png_jpg.rf.c6cb30e0b2ede8bcff6438cebd1a0...  spot\n",
       "5  16262_png_jpg.rf.c6cb30e0b2ede8bcff6438cebd1a0...  spot\n",
       "6  16262_png_jpg.rf.c6cb30e0b2ede8bcff6438cebd1a0...  spot\n",
       "7  16262_png_jpg.rf.c6cb30e0b2ede8bcff6438cebd1a0...  spot\n",
       "8  26817_png_jpg.rf.c6202600e22acb9b85ce311cf0a2d...  acne\n",
       "9  26817_png_jpg.rf.c6202600e22acb9b85ce311cf0a2d...  acne"
      ]
     },
     "execution_count": 28,
     "metadata": {},
     "output_type": "execute_result"
    }
   ],
   "source": [
    "skin_acne = skin_acne.drop(columns = [\"width\", \"height\", \"xmin\", \"ymin\", \"ymax\", \"xmax\"])\n",
    "skin_acne.head(10)"
   ]
  },
  {
   "cell_type": "code",
   "execution_count": 29,
   "id": "0b567c20-f16c-4867-95ad-b8c247f6bc32",
   "metadata": {},
   "outputs": [
    {
     "data": {
      "text/plain": [
       "0       spot\n",
       "1       spot\n",
       "2       spot\n",
       "3       spot\n",
       "4       spot\n",
       "        ... \n",
       "7839    acne\n",
       "7840    acne\n",
       "7841    acne\n",
       "7842    acne\n",
       "7843    acne\n",
       "Name: class, Length: 7844, dtype: object"
      ]
     },
     "execution_count": 29,
     "metadata": {},
     "output_type": "execute_result"
    }
   ],
   "source": [
    "skin_acne[\"class\"]"
   ]
  },
  {
   "cell_type": "code",
   "execution_count": 30,
   "id": "a4a79107-c928-4ac1-8831-54a3d85655a1",
   "metadata": {},
   "outputs": [
    {
     "data": {
      "text/html": [
       "<div>\n",
       "<style scoped>\n",
       "    .dataframe tbody tr th:only-of-type {\n",
       "        vertical-align: middle;\n",
       "    }\n",
       "\n",
       "    .dataframe tbody tr th {\n",
       "        vertical-align: top;\n",
       "    }\n",
       "\n",
       "    .dataframe thead th {\n",
       "        text-align: right;\n",
       "    }\n",
       "</style>\n",
       "<table border=\"1\" class=\"dataframe\">\n",
       "  <thead>\n",
       "    <tr style=\"text-align: right;\">\n",
       "      <th></th>\n",
       "      <th>filename</th>\n",
       "      <th>class</th>\n",
       "    </tr>\n",
       "  </thead>\n",
       "  <tbody>\n",
       "    <tr>\n",
       "      <th>0</th>\n",
       "      <td>16262_png_jpg.rf.c6cb30e0b2ede8bcff6438cebd1a0...</td>\n",
       "      <td>spot</td>\n",
       "    </tr>\n",
       "    <tr>\n",
       "      <th>1</th>\n",
       "      <td>16262_png_jpg.rf.c6cb30e0b2ede8bcff6438cebd1a0...</td>\n",
       "      <td>spot</td>\n",
       "    </tr>\n",
       "    <tr>\n",
       "      <th>2</th>\n",
       "      <td>16262_png_jpg.rf.c6cb30e0b2ede8bcff6438cebd1a0...</td>\n",
       "      <td>spot</td>\n",
       "    </tr>\n",
       "    <tr>\n",
       "      <th>3</th>\n",
       "      <td>16262_png_jpg.rf.c6cb30e0b2ede8bcff6438cebd1a0...</td>\n",
       "      <td>spot</td>\n",
       "    </tr>\n",
       "    <tr>\n",
       "      <th>4</th>\n",
       "      <td>16262_png_jpg.rf.c6cb30e0b2ede8bcff6438cebd1a0...</td>\n",
       "      <td>spot</td>\n",
       "    </tr>\n",
       "    <tr>\n",
       "      <th>...</th>\n",
       "      <td>...</td>\n",
       "      <td>...</td>\n",
       "    </tr>\n",
       "    <tr>\n",
       "      <th>7839</th>\n",
       "      <td>17331_png_jpg.rf.500920756b615b1c71b541fe96e9c...</td>\n",
       "      <td>acne</td>\n",
       "    </tr>\n",
       "    <tr>\n",
       "      <th>7840</th>\n",
       "      <td>17331_png_jpg.rf.500920756b615b1c71b541fe96e9c...</td>\n",
       "      <td>acne</td>\n",
       "    </tr>\n",
       "    <tr>\n",
       "      <th>7841</th>\n",
       "      <td>17331_png_jpg.rf.500920756b615b1c71b541fe96e9c...</td>\n",
       "      <td>acne</td>\n",
       "    </tr>\n",
       "    <tr>\n",
       "      <th>7842</th>\n",
       "      <td>49178_png_jpg.rf.4ec1f28fdc9061a68f00beccc1d36...</td>\n",
       "      <td>acne</td>\n",
       "    </tr>\n",
       "    <tr>\n",
       "      <th>7843</th>\n",
       "      <td>49178_png_jpg.rf.4ec1f28fdc9061a68f00beccc1d36...</td>\n",
       "      <td>acne</td>\n",
       "    </tr>\n",
       "  </tbody>\n",
       "</table>\n",
       "<p>7844 rows × 2 columns</p>\n",
       "</div>"
      ],
      "text/plain": [
       "                                               filename class\n",
       "0     16262_png_jpg.rf.c6cb30e0b2ede8bcff6438cebd1a0...  spot\n",
       "1     16262_png_jpg.rf.c6cb30e0b2ede8bcff6438cebd1a0...  spot\n",
       "2     16262_png_jpg.rf.c6cb30e0b2ede8bcff6438cebd1a0...  spot\n",
       "3     16262_png_jpg.rf.c6cb30e0b2ede8bcff6438cebd1a0...  spot\n",
       "4     16262_png_jpg.rf.c6cb30e0b2ede8bcff6438cebd1a0...  spot\n",
       "...                                                 ...   ...\n",
       "7839  17331_png_jpg.rf.500920756b615b1c71b541fe96e9c...  acne\n",
       "7840  17331_png_jpg.rf.500920756b615b1c71b541fe96e9c...  acne\n",
       "7841  17331_png_jpg.rf.500920756b615b1c71b541fe96e9c...  acne\n",
       "7842  49178_png_jpg.rf.4ec1f28fdc9061a68f00beccc1d36...  acne\n",
       "7843  49178_png_jpg.rf.4ec1f28fdc9061a68f00beccc1d36...  acne\n",
       "\n",
       "[7844 rows x 2 columns]"
      ]
     },
     "execution_count": 30,
     "metadata": {},
     "output_type": "execute_result"
    }
   ],
   "source": [
    "skin_acne"
   ]
  },
  {
   "cell_type": "code",
   "execution_count": 31,
   "id": "d66c4484-16e2-473b-a187-5769f4220e5f",
   "metadata": {},
   "outputs": [],
   "source": [
    "filenames = [fname for fname in skin_acne[\"filename\"]]\n",
    "copy_filenames = filenames"
   ]
  },
  {
   "cell_type": "code",
   "execution_count": 32,
   "id": "83ce551c-9661-474d-bae0-ca2e0abf2085",
   "metadata": {},
   "outputs": [],
   "source": [
    "import os"
   ]
  },
  {
   "cell_type": "code",
   "execution_count": 33,
   "id": "e13a9c7a-db63-4c7b-a8ba-b4f0802d4c1d",
   "metadata": {},
   "outputs": [
    {
     "data": {
      "text/plain": [
       "7844"
      ]
     },
     "execution_count": 33,
     "metadata": {},
     "output_type": "execute_result"
    }
   ],
   "source": [
    "len(filenames)"
   ]
  },
  {
   "cell_type": "code",
   "execution_count": 34,
   "id": "9bfa1d39-6138-409f-b039-e768d8299e64",
   "metadata": {},
   "outputs": [
    {
     "data": {
      "text/plain": [
       "405"
      ]
     },
     "execution_count": 34,
     "metadata": {},
     "output_type": "execute_result"
    }
   ],
   "source": [
    "len(os.listdir(\"/Users/krishprakash/Desktop/ML/archive/valid\"))"
   ]
  },
  {
   "cell_type": "code",
   "execution_count": 58,
   "id": "d0c705ff-1bd8-4765-ad17-cc7c1797fe4a",
   "metadata": {},
   "outputs": [
    {
     "name": "stdout",
     "output_type": "stream",
     "text": [
      "1574\n"
     ]
    }
   ],
   "source": [
    "i = 0\n",
    "new_filenames = []\n",
    "for fname in os.listdir(\"/Users/krishprakash/Desktop/ML/archive/train\"):\n",
    "    if fname in filenames:\n",
    "        new_filenames.append(fname)\n",
    "        i= i+1\n",
    "    \n",
    "        \n",
    "        \n",
    "print(i)\n",
    "        \n",
    "        "
   ]
  },
  {
   "cell_type": "code",
   "execution_count": 59,
   "id": "25c38c3b-cff8-4604-ad93-9d24ef84c043",
   "metadata": {},
   "outputs": [
    {
     "data": {
      "text/plain": [
       "1574"
      ]
     },
     "execution_count": 59,
     "metadata": {},
     "output_type": "execute_result"
    }
   ],
   "source": [
    "len(new_filenames)"
   ]
  },
  {
   "cell_type": "code",
   "execution_count": 47,
   "id": "54eebee8-7a8c-4182-bf70-b0dbfdb05c41",
   "metadata": {},
   "outputs": [
    {
     "data": {
      "text/plain": [
       "['16262_png_jpg.rf.c6cb30e0b2ede8bcff6438cebd1a02f3.jpg',\n",
       " '16262_png_jpg.rf.c6cb30e0b2ede8bcff6438cebd1a02f3.jpg',\n",
       " '16262_png_jpg.rf.c6cb30e0b2ede8bcff6438cebd1a02f3.jpg',\n",
       " '16262_png_jpg.rf.c6cb30e0b2ede8bcff6438cebd1a02f3.jpg',\n",
       " '16262_png_jpg.rf.c6cb30e0b2ede8bcff6438cebd1a02f3.jpg',\n",
       " '16262_png_jpg.rf.c6cb30e0b2ede8bcff6438cebd1a02f3.jpg',\n",
       " '16262_png_jpg.rf.c6cb30e0b2ede8bcff6438cebd1a02f3.jpg',\n",
       " '16262_png_jpg.rf.c6cb30e0b2ede8bcff6438cebd1a02f3.jpg',\n",
       " '26817_png_jpg.rf.c6202600e22acb9b85ce311cf0a2de91.jpg',\n",
       " '26817_png_jpg.rf.c6202600e22acb9b85ce311cf0a2de91.jpg']"
      ]
     },
     "execution_count": 47,
     "metadata": {},
     "output_type": "execute_result"
    }
   ],
   "source": [
    "filenames[:10]"
   ]
  },
  {
   "cell_type": "code",
   "execution_count": 49,
   "id": "83bd898c-f0f0-4825-ad52-f6c7daa2d411",
   "metadata": {},
   "outputs": [
    {
     "name": "stdout",
     "output_type": "stream",
     "text": [
      "TRUE\n"
     ]
    }
   ],
   "source": [
    "if \"11298_png_jpg.rf.7b5f59cb61bc7705b8fd32b2aa88e87a.jpg\" in filenames:\n",
    "    print(\"TRUE\")"
   ]
  },
  {
   "cell_type": "code",
   "execution_count": 60,
   "id": "ac27bd45-6297-4752-8fb4-2327f543bc2f",
   "metadata": {},
   "outputs": [
    {
     "data": {
      "text/plain": [
       "['11298_png_jpg.rf.7b5f59cb61bc7705b8fd32b2aa88e87a.jpg',\n",
       " 'OgwQpnTdFOU_jpg.rf.ac3f2a68cf21e17eefa543f87049536e.jpg',\n",
       " '25474_png_jpg.rf.5f8ddfcdd6157c76b39d10a3caee2e3e.jpg',\n",
       " '47305_png_jpg.rf.93b496fbf928341f3551623ad73cbcd2.jpg',\n",
       " '41709_png_jpg.rf.8cc1bdddb65dbd8f8fea0ccae99cd840.jpg',\n",
       " '68956_png_jpg.rf.f93af9b6d6491bc83c7621a75303c336.jpg',\n",
       " '08083_png_jpg.rf.671163d845d96fe980b6f900b4d3fbfe.jpg',\n",
       " '21837_png_jpg.rf.81b6c9445cc0081d30c35c5f1b50facf.jpg',\n",
       " '21839_png_jpg.rf.404170fa907d30f4d95dd5d09ae976f7.jpg',\n",
       " '24761_png_jpg.rf.5862aa9da9c27d1ab84b605732bf127c.jpg',\n",
       " '41083_png_jpg.rf.dd5feeb916add7abceb6285dad4780f5.jpg',\n",
       " '17168_png_jpg.rf.66cb84c401d5e58d4f64cc9e682c6f5a.jpg',\n",
       " '23435_png_jpg.rf.96c1f72d0f6577ca7ed6dad530aa9c1e.jpg',\n",
       " '33880_png_jpg.rf.4f528319c3a8d90ebdd188bd262c492e.jpg',\n",
       " '44253_png_jpg.rf.8ae8411f7547e64ce08a5372d6387865.jpg',\n",
       " '00025_png_jpg.rf.d349f9f6f885ebf1cc6310f9f2327a06.jpg',\n",
       " '02553_png_jpg.rf.daa32d046603cf126f1073f9af7c492c.jpg',\n",
       " '24633_png_jpg.rf.28d1269512d67f2d02a39422723b7d66.jpg',\n",
       " '23107_png_jpg.rf.773956d73f37d56e9906792e086e153f.jpg',\n",
       " '35952_png_jpg.rf.44c0f01b5f49114524c1abe909b88067.jpg',\n",
       " '39337_png_jpg.rf.004dccfa7f2ed700748af3aef94bfa33.jpg',\n",
       " '19310_png_jpg.rf.9457db6e2e50b789c98515896239dfd0.jpg',\n",
       " '32562_png_jpg.rf.abd17c87e031020a07d47b3970ac5288.jpg',\n",
       " '14261_png_jpg.rf.a40000747e39a62786d77daf481a77c3.jpg',\n",
       " '38316_png_jpg.rf.a8fc47c4c04a641c4429339fb446d350.jpg',\n",
       " '26655_png_jpg.rf.571c6c02f0045b7684578c1a92a73895.jpg',\n",
       " '41750_png_jpg.rf.9dbd9b4848b912124bc1e56039dc30bd.jpg',\n",
       " '05082_png_jpg.rf.5ee86e079a66faf264349c30d9c4e31e.jpg',\n",
       " '46360_png_jpg.rf.828821777fdd3c2489c3236c94165e98.jpg',\n",
       " '25344_png_jpg.rf.50dfc4387eafad8892dc717dcd0a62e4.jpg']"
      ]
     },
     "execution_count": 60,
     "metadata": {},
     "output_type": "execute_result"
    }
   ],
   "source": [
    "new_filenames[:30]"
   ]
  },
  {
   "cell_type": "code",
   "execution_count": 61,
   "id": "bd845a80-7aaf-4746-bfb7-d4e4a3aa512e",
   "metadata": {},
   "outputs": [],
   "source": [
    "filenames = new_filenames"
   ]
  },
  {
   "cell_type": "code",
   "execution_count": 62,
   "id": "c5869349-84ea-45c9-b6b5-5b7c647dba5e",
   "metadata": {},
   "outputs": [
    {
     "data": {
      "text/plain": [
       "1574"
      ]
     },
     "execution_count": 62,
     "metadata": {},
     "output_type": "execute_result"
    }
   ],
   "source": [
    "len(filenames)"
   ]
  },
  {
   "cell_type": "code",
   "execution_count": 66,
   "id": "eaf60651-6051-483b-8ece-c7c05b8d6236",
   "metadata": {},
   "outputs": [
    {
     "data": {
      "text/html": [
       "<div>\n",
       "<style scoped>\n",
       "    .dataframe tbody tr th:only-of-type {\n",
       "        vertical-align: middle;\n",
       "    }\n",
       "\n",
       "    .dataframe tbody tr th {\n",
       "        vertical-align: top;\n",
       "    }\n",
       "\n",
       "    .dataframe thead th {\n",
       "        text-align: right;\n",
       "    }\n",
       "</style>\n",
       "<table border=\"1\" class=\"dataframe\">\n",
       "  <thead>\n",
       "    <tr style=\"text-align: right;\">\n",
       "      <th></th>\n",
       "      <th>Name</th>\n",
       "      <th>Sex</th>\n",
       "    </tr>\n",
       "  </thead>\n",
       "  <tbody>\n",
       "    <tr>\n",
       "      <th>0</th>\n",
       "      <td>Anil</td>\n",
       "      <td>Male</td>\n",
       "    </tr>\n",
       "    <tr>\n",
       "      <th>1</th>\n",
       "      <td>Bhawna</td>\n",
       "      <td>Female</td>\n",
       "    </tr>\n",
       "    <tr>\n",
       "      <th>2</th>\n",
       "      <td>John</td>\n",
       "      <td>Male</td>\n",
       "    </tr>\n",
       "    <tr>\n",
       "      <th>3</th>\n",
       "      <td>Perlyn</td>\n",
       "      <td>Female</td>\n",
       "    </tr>\n",
       "    <tr>\n",
       "      <th>4</th>\n",
       "      <td>Dani</td>\n",
       "      <td>Female</td>\n",
       "    </tr>\n",
       "  </tbody>\n",
       "</table>\n",
       "</div>"
      ],
      "text/plain": [
       "     Name     Sex\n",
       "0    Anil    Male\n",
       "1  Bhawna  Female\n",
       "2    John    Male\n",
       "3  Perlyn  Female\n",
       "4    Dani  Female"
      ]
     },
     "execution_count": 66,
     "metadata": {},
     "output_type": "execute_result"
    }
   ],
   "source": [
    "dd = {\"Name\" : [\"Anil\", \"Bhawna\", \"John\", \"Perlyn\", \"Dani\"], \"Sex\": [\"Male\", \"Female\", \"Male\", \"Female\", \"Female\"]}\n",
    "df = pd.DataFrame(dd)\n",
    "df"
   ]
  },
  {
   "cell_type": "code",
   "execution_count": 70,
   "id": "25c80bc5-f86c-4eeb-a4f2-69f07e9760c0",
   "metadata": {},
   "outputs": [
    {
     "data": {
      "text/plain": [
       "array(['Male', 'Female', 'Male', 'Female', 'Female'], dtype=object)"
      ]
     },
     "execution_count": 70,
     "metadata": {},
     "output_type": "execute_result"
    }
   ],
   "source": [
    "sex = np.array(df[\"Sex\"])\n",
    "sex\n"
   ]
  },
  {
   "cell_type": "code",
   "execution_count": 71,
   "id": "13813af1-f3ae-4a09-b0bc-e98e96e8c7fd",
   "metadata": {},
   "outputs": [],
   "source": [
    "sex_type = np.unique(sex)"
   ]
  },
  {
   "cell_type": "code",
   "execution_count": 73,
   "id": "4fa18248-8dbc-48b5-a24c-4611a5b7a569",
   "metadata": {},
   "outputs": [
    {
     "data": {
      "text/plain": [
       "array(['Female', 'Male'], dtype=object)"
      ]
     },
     "execution_count": 73,
     "metadata": {},
     "output_type": "execute_result"
    }
   ],
   "source": [
    "sex_type"
   ]
  },
  {
   "cell_type": "code",
   "execution_count": 74,
   "id": "ecc08fb0-8b2d-4afc-8353-782f60bf2b06",
   "metadata": {},
   "outputs": [
    {
     "data": {
      "text/plain": [
       "array([False,  True])"
      ]
     },
     "execution_count": 74,
     "metadata": {},
     "output_type": "execute_result"
    }
   ],
   "source": [
    "sex[0] == sex_type"
   ]
  },
  {
   "cell_type": "code",
   "execution_count": 75,
   "id": "df1c5b65-8607-43db-a08f-f1299a372237",
   "metadata": {},
   "outputs": [
    {
     "data": {
      "text/plain": [
       "[array([False,  True]),\n",
       " array([ True, False]),\n",
       " array([False,  True]),\n",
       " array([ True, False]),\n",
       " array([ True, False])]"
      ]
     },
     "execution_count": 75,
     "metadata": {},
     "output_type": "execute_result"
    }
   ],
   "source": [
    "boolean_label = []\n",
    "for t in sex:\n",
    "    boolean_label.append(t == sex_type)\n",
    "\n",
    "boolean_label"
   ]
  },
  {
   "cell_type": "code",
   "execution_count": 80,
   "id": "62405537-5f36-4c18-9565-dbf8d79ba1b7",
   "metadata": {},
   "outputs": [
    {
     "data": {
      "text/plain": [
       "array([[0, 1],\n",
       "       [1, 0],\n",
       "       [0, 1],\n",
       "       [1, 0],\n",
       "       [1, 0]])"
      ]
     },
     "execution_count": 80,
     "metadata": {},
     "output_type": "execute_result"
    }
   ],
   "source": [
    "x = np.array(boolean_label).astype(int)\n",
    "x"
   ]
  },
  {
   "cell_type": "code",
   "execution_count": null,
   "id": "c2fc134d-cbe1-478f-8a49-fb3a360cb5bb",
   "metadata": {},
   "outputs": [],
   "source": []
  }
 ],
 "metadata": {
  "kernelspec": {
   "display_name": "Python 3 (ipykernel)",
   "language": "python",
   "name": "python3"
  },
  "language_info": {
   "codemirror_mode": {
    "name": "ipython",
    "version": 3
   },
   "file_extension": ".py",
   "mimetype": "text/x-python",
   "name": "python",
   "nbconvert_exporter": "python",
   "pygments_lexer": "ipython3",
   "version": "3.12.8"
  }
 },
 "nbformat": 4,
 "nbformat_minor": 5
}
